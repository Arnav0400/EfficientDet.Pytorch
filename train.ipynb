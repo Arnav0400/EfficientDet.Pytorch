{
 "cells": [
  {
   "cell_type": "code",
   "execution_count": 1,
   "metadata": {},
   "outputs": [],
   "source": [
    "import os\n",
    "import sys\n",
    "import time\n",
    "import argparse\n",
    "import numpy as np\n",
    "import torch\n",
    "import torch.optim as optim\n",
    "import torch.backends.cudnn as cudnn\n",
    "import pandas as pd\n",
    "from torch.utils.data import DataLoader\n",
    "from models.efficientdet import EfficientDet\n",
    "from models.losses import FocalLoss\n",
    "from datasets import Spine_dataset, get_augumentation, detection_collate\n",
    "from utils import EFFICIENTDET\n",
    "from tqdm import tqdm_notebook as tqdm\n",
    "import cv2\n",
    "import matplotlib.pyplot as plt"
   ]
  },
  {
   "cell_type": "code",
   "execution_count": 2,
   "metadata": {},
   "outputs": [],
   "source": [
    "def seed_everything(seed):\n",
    "    random.seed(seed)\n",
    "    os.environ['PYTHONHASHSEED'] = str(seed)\n",
    "    np.random.seed(seed)\n",
    "    torch.manual_seed(seed)\n",
    "    torch.cuda.manual_seed(seed)\n",
    "    torch.backends.cudnn.deterministic = True"
   ]
  },
  {
   "cell_type": "code",
   "execution_count": 3,
   "metadata": {},
   "outputs": [],
   "source": [
    "resume = None#'weights/checkpoint_efficientdet-d3_18.pth'\n",
    "network = 'efficientdet-d3'\n",
    "num_epochs = 100\n",
    "batch_size = 1\n",
    "num_worker = 4\n",
    "num_classes = 1\n",
    "device = [0]\n",
    "grad_accumulation_steps = 1\n",
    "learning_rate = 1e-4\n",
    "momentum = 0.9\n",
    "weight_decay = 5e-4\n",
    "gamma = 0.1\n",
    "save_folder = 'weights/'\n",
    "image_root = 'boostnet_labeldata/data/'\n",
    "csv_root = 'boostnet_labeldata/labels/'"
   ]
  },
  {
   "cell_type": "code",
   "execution_count": 4,
   "metadata": {},
   "outputs": [],
   "source": [
    "if not os.path.exists(save_folder):\n",
    "    os.mkdir(save_folder)"
   ]
  },
  {
   "cell_type": "code",
   "execution_count": 5,
   "metadata": {},
   "outputs": [],
   "source": [
    "def prepare_device(device):\n",
    "    n_gpu_use = len(device)\n",
    "    n_gpu = torch.cuda.device_count()\n",
    "    if n_gpu_use > 0 and n_gpu == 0:\n",
    "        print(\"Warning: There\\'s no GPU available on this machine, training will be performed on CPU.\")\n",
    "        n_gpu_use = 0\n",
    "    if n_gpu_use > n_gpu:\n",
    "        print(\"Warning: The number of GPU\\'s configured to use is {}, but only {} are available on this machine.\".format(\n",
    "            n_gpu_use, n_gpu))\n",
    "        n_gpu_use = n_gpu\n",
    "    list_ids = device\n",
    "    device = torch.device('cuda:{}'.format(\n",
    "        device[0]) if n_gpu_use > 0 else 'cpu')\n",
    "\n",
    "    return device, list_ids"
   ]
  },
  {
   "cell_type": "code",
   "execution_count": 6,
   "metadata": {},
   "outputs": [],
   "source": [
    "def get_state_dict(model):\n",
    "    if type(model) == torch.nn.DataParallel:\n",
    "        state_dict = model.module.state_dict()\n",
    "    else:\n",
    "        state_dict = model.state_dict()\n",
    "    return state_dict"
   ]
  },
  {
   "cell_type": "code",
   "execution_count": 7,
   "metadata": {},
   "outputs": [],
   "source": [
    "checkpoint = []\n",
    "if(resume is not None):\n",
    "    resume_path = str(resume)\n",
    "    print(\"Loading checkpoint: {} ...\".format(resume_path))\n",
    "    checkpoint = torch.load(\n",
    "        resume, map_location=lambda storage, loc: storage)\n",
    "    num_classes = checkpoint['num_class']\n",
    "    network = checkpoint['network']"
   ]
  },
  {
   "cell_type": "code",
   "execution_count": 8,
   "metadata": {},
   "outputs": [],
   "source": [
    "filename_df_train = pd.read_csv(csv_root+'training/filenames.csv',header = None)\n",
    "boxes_df_train = pd.read_csv(csv_root+'training/train.csv')\n",
    "boxes_df_train.label = 0 # All boxes same class??"
   ]
  },
  {
   "cell_type": "code",
   "execution_count": 9,
   "metadata": {},
   "outputs": [],
   "source": [
    "filename_df_test = pd.read_csv(csv_root+'test/filenames.csv',header = None)\n",
    "boxes_df_test = pd.read_csv('test.csv')\n",
    "boxes_df_test.label = 0"
   ]
  },
  {
   "cell_type": "code",
   "execution_count": 10,
   "metadata": {},
   "outputs": [],
   "source": [
    "train_dataset = Spine_dataset.SPINEDetection(image_root,boxes_df_train,filename_df_train,transform=get_augumentation('train'))"
   ]
  },
  {
   "cell_type": "code",
   "execution_count": 11,
   "metadata": {},
   "outputs": [],
   "source": [
    "val_dataset = Spine_dataset.SPINEDetection(image_root,boxes_df_test,filename_df_test,transform=get_augumentation('val'),image_set='test')"
   ]
  },
  {
   "cell_type": "code",
   "execution_count": 12,
   "metadata": {},
   "outputs": [],
   "source": [
    "test_dataset = Spine_dataset.SPINEDetection_test(transform=get_augumentation('test'))"
   ]
  },
  {
   "cell_type": "code",
   "execution_count": 13,
   "metadata": {},
   "outputs": [],
   "source": [
    "train_dataloader = DataLoader(train_dataset,\n",
    "                              batch_size=batch_size,\n",
    "                              num_workers=num_worker,\n",
    "                              shuffle=True,\n",
    "                              collate_fn=detection_collate,\n",
    "                              pin_memory=True)"
   ]
  },
  {
   "cell_type": "code",
   "execution_count": 14,
   "metadata": {},
   "outputs": [],
   "source": [
    "val_dataloader = DataLoader(val_dataset,\n",
    "                              batch_size=1,\n",
    "                              num_workers=num_worker,\n",
    "                              shuffle=False,\n",
    "                              collate_fn=detection_collate,\n",
    "                              pin_memory=True)"
   ]
  },
  {
   "cell_type": "code",
   "execution_count": 15,
   "metadata": {},
   "outputs": [],
   "source": [
    "test_dataloader = DataLoader(test_dataset,\n",
    "                              batch_size=batch_size,\n",
    "                              num_workers=num_worker,\n",
    "                              shuffle=False,\n",
    "                              collate_fn=None,\n",
    "                              pin_memory=True)"
   ]
  },
  {
   "cell_type": "code",
   "execution_count": 16,
   "metadata": {
    "scrolled": false
   },
   "outputs": [
    {
     "name": "stdout",
     "output_type": "stream",
     "text": [
      "0 torch.Size([1, 3, 1792, 512]) torch.Size([1, 17, 5])\n",
      "1 torch.Size([1, 3, 1536, 512]) torch.Size([1, 17, 5])\n",
      "2 torch.Size([1, 3, 2048, 768]) torch.Size([1, 17, 5])\n",
      "3 torch.Size([1, 3, 2048, 896]) torch.Size([1, 17, 5])\n",
      "4 torch.Size([1, 3, 2048, 896]) torch.Size([1, 17, 5])\n",
      "5 torch.Size([1, 3, 2048, 640]) torch.Size([1, 17, 5])\n",
      "6 torch.Size([1, 3, 2048, 768]) torch.Size([1, 17, 5])\n",
      "7 torch.Size([1, 3, 1920, 768]) torch.Size([1, 17, 5])\n",
      "8 torch.Size([1, 3, 2048, 768]) torch.Size([1, 17, 5])\n",
      "9 torch.Size([1, 3, 2048, 640]) torch.Size([1, 17, 5])\n",
      "10 torch.Size([1, 3, 2048, 640]) torch.Size([1, 17, 5])\n",
      "11 torch.Size([1, 3, 2048, 640]) torch.Size([1, 17, 5])\n",
      "12 torch.Size([1, 3, 2048, 768]) torch.Size([1, 17, 5])\n",
      "13 torch.Size([1, 3, 2048, 896]) torch.Size([1, 17, 5])\n",
      "14 torch.Size([1, 3, 2048, 640]) torch.Size([1, 17, 5])\n",
      "15 torch.Size([1, 3, 2048, 640]) torch.Size([1, 17, 5])\n",
      "16 torch.Size([1, 3, 2048, 896]) torch.Size([1, 17, 5])\n",
      "17 torch.Size([1, 3, 2048, 512]) torch.Size([1, 17, 5])\n",
      "18 torch.Size([1, 3, 2048, 896]) torch.Size([1, 17, 5])\n",
      "19 torch.Size([1, 3, 2048, 640]) torch.Size([1, 17, 5])\n",
      "20 torch.Size([1, 3, 2048, 640]) torch.Size([1, 17, 5])\n",
      "21 torch.Size([1, 3, 2048, 512]) torch.Size([1, 17, 5])\n",
      "22 torch.Size([1, 3, 2048, 512]) torch.Size([1, 17, 5])\n",
      "23 torch.Size([1, 3, 2048, 768]) torch.Size([1, 17, 5])\n",
      "24 torch.Size([1, 3, 2048, 640]) torch.Size([1, 17, 5])\n",
      "25 torch.Size([1, 3, 2048, 640]) torch.Size([1, 17, 5])\n",
      "26 torch.Size([1, 3, 2048, 512]) torch.Size([1, 17, 5])\n",
      "27 torch.Size([1, 3, 1792, 896]) torch.Size([1, 17, 5])\n",
      "28 torch.Size([1, 3, 2048, 896]) torch.Size([1, 17, 5])\n",
      "29 torch.Size([1, 3, 2048, 768]) torch.Size([1, 17, 5])\n",
      "30 torch.Size([1, 3, 2048, 512]) torch.Size([1, 17, 5])\n",
      "31 torch.Size([1, 3, 2048, 768]) torch.Size([1, 17, 5])\n",
      "32 torch.Size([1, 3, 1664, 768]) torch.Size([1, 17, 5])\n",
      "33 torch.Size([1, 3, 2048, 896]) torch.Size([1, 17, 5])\n",
      "34 torch.Size([1, 3, 2048, 640]) torch.Size([1, 17, 5])\n",
      "35 torch.Size([1, 3, 1792, 640]) torch.Size([1, 17, 5])\n",
      "36 torch.Size([1, 3, 2048, 512]) torch.Size([1, 17, 5])\n",
      "37 torch.Size([1, 3, 2048, 512]) torch.Size([1, 17, 5])\n",
      "38 torch.Size([1, 3, 2048, 640]) torch.Size([1, 17, 5])\n",
      "39 torch.Size([1, 3, 2048, 640]) torch.Size([1, 17, 5])\n",
      "40 torch.Size([1, 3, 2048, 640]) torch.Size([1, 17, 5])\n",
      "41 torch.Size([1, 3, 2048, 896]) torch.Size([1, 17, 5])\n",
      "42 torch.Size([1, 3, 1280, 512]) torch.Size([1, 17, 5])\n",
      "43 torch.Size([1, 3, 2048, 640]) torch.Size([1, 17, 5])\n",
      "44 torch.Size([1, 3, 2048, 640]) torch.Size([1, 17, 5])\n",
      "45 torch.Size([1, 3, 2048, 640]) torch.Size([1, 17, 5])\n",
      "46 torch.Size([1, 3, 2048, 768]) torch.Size([1, 17, 5])\n",
      "47 torch.Size([1, 3, 1920, 640]) torch.Size([1, 17, 5])\n",
      "48 torch.Size([1, 3, 2048, 512]) torch.Size([1, 17, 5])\n",
      "49 torch.Size([1, 3, 2048, 640]) torch.Size([1, 17, 5])\n",
      "50 torch.Size([1, 3, 2048, 768]) torch.Size([1, 17, 5])\n",
      "51 torch.Size([1, 3, 2048, 640]) torch.Size([1, 17, 5])\n",
      "52 torch.Size([1, 3, 2048, 640]) torch.Size([1, 17, 5])\n",
      "53 torch.Size([1, 3, 1664, 640]) torch.Size([1, 17, 5])\n",
      "54 torch.Size([1, 3, 2048, 768]) torch.Size([1, 17, 5])\n",
      "55 torch.Size([1, 3, 2048, 768]) torch.Size([1, 17, 5])\n",
      "56 torch.Size([1, 3, 2048, 640]) torch.Size([1, 17, 5])\n",
      "57 torch.Size([1, 3, 2048, 640]) torch.Size([1, 17, 5])\n",
      "58 torch.Size([1, 3, 2048, 640]) torch.Size([1, 17, 5])\n",
      "59 torch.Size([1, 3, 2048, 512]) torch.Size([1, 17, 5])\n",
      "60 torch.Size([1, 3, 1792, 640]) torch.Size([1, 16, 5])\n",
      "61 torch.Size([1, 3, 2048, 640]) torch.Size([1, 17, 5])\n",
      "62 torch.Size([1, 3, 2048, 640]) torch.Size([1, 17, 5])\n",
      "63 torch.Size([1, 3, 1664, 512]) torch.Size([1, 17, 5])\n",
      "64 torch.Size([1, 3, 1664, 640]) torch.Size([1, 17, 5])\n",
      "65 torch.Size([1, 3, 2048, 768]) torch.Size([1, 17, 5])\n",
      "66 torch.Size([1, 3, 2048, 640]) torch.Size([1, 17, 5])\n",
      "67 torch.Size([1, 3, 2048, 768]) torch.Size([1, 17, 5])\n",
      "68 torch.Size([1, 3, 2048, 768]) torch.Size([1, 17, 5])\n",
      "69 torch.Size([1, 3, 2048, 768]) torch.Size([1, 17, 5])\n",
      "70 torch.Size([1, 3, 2048, 640]) torch.Size([1, 17, 5])\n",
      "71 torch.Size([1, 3, 2048, 512]) torch.Size([1, 17, 5])\n",
      "72 torch.Size([1, 3, 2048, 512]) torch.Size([1, 17, 5])\n",
      "73 torch.Size([1, 3, 1536, 512]) torch.Size([1, 17, 5])\n",
      "74 torch.Size([1, 3, 2048, 768]) torch.Size([1, 17, 5])\n",
      "75 torch.Size([1, 3, 2048, 640]) torch.Size([1, 17, 5])\n",
      "76 torch.Size([1, 3, 2048, 640]) torch.Size([1, 17, 5])\n",
      "77 torch.Size([1, 3, 2048, 768]) torch.Size([1, 17, 5])\n",
      "78 torch.Size([1, 3, 1792, 512]) torch.Size([1, 17, 5])\n",
      "79 torch.Size([1, 3, 2048, 640]) torch.Size([1, 17, 5])\n",
      "80 torch.Size([1, 3, 2048, 896]) torch.Size([1, 17, 5])\n",
      "81 torch.Size([1, 3, 2048, 512]) torch.Size([1, 17, 5])\n",
      "82 torch.Size([1, 3, 1664, 896]) torch.Size([1, 17, 5])\n",
      "83 torch.Size([1, 3, 2048, 768]) torch.Size([1, 17, 5])\n",
      "84 torch.Size([1, 3, 2048, 768]) torch.Size([1, 17, 5])\n",
      "85 torch.Size([1, 3, 2048, 512]) torch.Size([1, 17, 5])\n",
      "86 torch.Size([1, 3, 1920, 768]) torch.Size([1, 17, 5])\n",
      "87 torch.Size([1, 3, 1792, 768]) torch.Size([1, 17, 5])\n",
      "88 torch.Size([1, 3, 2048, 512]) torch.Size([1, 17, 5])\n",
      "89 torch.Size([1, 3, 1152, 512]) torch.Size([1, 17, 5])\n",
      "90 torch.Size([1, 3, 1536, 384]) torch.Size([1, 17, 5])\n",
      "91 torch.Size([1, 3, 2048, 768]) torch.Size([1, 17, 5])\n",
      "92 torch.Size([1, 3, 2048, 768]) torch.Size([1, 17, 5])\n",
      "93 torch.Size([1, 3, 2048, 768]) torch.Size([1, 15, 5])\n",
      "94 torch.Size([1, 3, 2048, 640]) torch.Size([1, 17, 5])\n",
      "95 torch.Size([1, 3, 2048, 896]) torch.Size([1, 17, 5])\n",
      "96 torch.Size([1, 3, 2048, 768]) torch.Size([1, 17, 5])\n",
      "97 torch.Size([1, 3, 2048, 512]) torch.Size([1, 17, 5])\n",
      "98 torch.Size([1, 3, 2048, 768]) torch.Size([1, 17, 5])\n",
      "99 torch.Size([1, 3, 1920, 640]) torch.Size([1, 17, 5])\n",
      "100 torch.Size([1, 3, 2048, 768]) torch.Size([1, 17, 5])\n",
      "101 torch.Size([1, 3, 1920, 640]) torch.Size([1, 17, 5])\n",
      "102 torch.Size([1, 3, 1152, 512]) torch.Size([1, 17, 5])\n",
      "103 torch.Size([1, 3, 2048, 512]) torch.Size([1, 17, 5])\n",
      "104 torch.Size([1, 3, 2048, 640]) torch.Size([1, 17, 5])\n",
      "105 torch.Size([1, 3, 2048, 640]) torch.Size([1, 17, 5])\n",
      "106 torch.Size([1, 3, 2048, 512]) torch.Size([1, 17, 5])\n",
      "107 torch.Size([1, 3, 2048, 640]) torch.Size([1, 17, 5])\n",
      "108 torch.Size([1, 3, 2048, 768]) torch.Size([1, 17, 5])\n",
      "109 torch.Size([1, 3, 2048, 768]) torch.Size([1, 17, 5])\n",
      "110 torch.Size([1, 3, 2048, 768]) torch.Size([1, 17, 5])\n",
      "111 torch.Size([1, 3, 2048, 896]) torch.Size([1, 17, 5])\n",
      "112 torch.Size([1, 3, 1920, 768]) torch.Size([1, 17, 5])\n",
      "113 torch.Size([1, 3, 2048, 512]) torch.Size([1, 17, 5])\n",
      "114 torch.Size([1, 3, 2048, 512]) torch.Size([1, 17, 5])\n",
      "115 torch.Size([1, 3, 2048, 640]) torch.Size([1, 17, 5])\n",
      "116 torch.Size([1, 3, 2048, 640]) torch.Size([1, 17, 5])\n",
      "117 torch.Size([1, 3, 2048, 640]) torch.Size([1, 17, 5])\n",
      "118 torch.Size([1, 3, 1792, 512]) torch.Size([1, 17, 5])\n",
      "119 torch.Size([1, 3, 2048, 512]) torch.Size([1, 17, 5])\n",
      "120 torch.Size([1, 3, 2048, 896]) torch.Size([1, 17, 5])\n",
      "121 torch.Size([1, 3, 1792, 640]) torch.Size([1, 17, 5])\n",
      "122 torch.Size([1, 3, 2048, 896]) torch.Size([1, 17, 5])\n",
      "123 torch.Size([1, 3, 2048, 640]) torch.Size([1, 17, 5])\n",
      "124 torch.Size([1, 3, 2048, 640]) torch.Size([1, 17, 5])\n",
      "125 torch.Size([1, 3, 2048, 768]) torch.Size([1, 17, 5])\n",
      "126 torch.Size([1, 3, 2048, 768]) torch.Size([1, 17, 5])\n",
      "127 torch.Size([1, 3, 2048, 512]) torch.Size([1, 17, 5])\n",
      "128 torch.Size([1, 3, 2048, 896]) torch.Size([1, 17, 5])\n",
      "129 torch.Size([1, 3, 1920, 640]) torch.Size([1, 17, 5])\n",
      "130 torch.Size([1, 3, 2048, 640]) torch.Size([1, 17, 5])\n",
      "131 torch.Size([1, 3, 2048, 512]) torch.Size([1, 17, 5])\n",
      "132 torch.Size([1, 3, 2048, 896]) torch.Size([1, 17, 5])\n",
      "133 torch.Size([1, 3, 2048, 768]) torch.Size([1, 17, 5])\n",
      "134 torch.Size([1, 3, 2048, 768]) torch.Size([1, 17, 5])\n",
      "135 torch.Size([1, 3, 2048, 896]) torch.Size([1, 17, 5])\n",
      "136 torch.Size([1, 3, 2048, 768]) torch.Size([1, 17, 5])\n",
      "137 torch.Size([1, 3, 2048, 640]) torch.Size([1, 17, 5])\n",
      "138 torch.Size([1, 3, 1408, 512]) torch.Size([1, 17, 5])\n",
      "139 torch.Size([1, 3, 2048, 640]) torch.Size([1, 17, 5])\n",
      "140 torch.Size([1, 3, 2048, 768]) torch.Size([1, 17, 5])\n",
      "141 torch.Size([1, 3, 896, 384]) torch.Size([1, 17, 5])\n",
      "142 torch.Size([1, 3, 2048, 640]) torch.Size([1, 17, 5])\n",
      "143 torch.Size([1, 3, 1792, 640]) torch.Size([1, 17, 5])\n",
      "144 torch.Size([1, 3, 2048, 768]) torch.Size([1, 17, 5])\n",
      "145 torch.Size([1, 3, 2048, 640]) torch.Size([1, 17, 5])\n",
      "146 torch.Size([1, 3, 2048, 640]) torch.Size([1, 17, 5])\n",
      "147 torch.Size([1, 3, 2048, 384]) torch.Size([1, 17, 5])\n",
      "148 torch.Size([1, 3, 1920, 512]) torch.Size([1, 17, 5])\n",
      "149 torch.Size([1, 3, 2048, 640]) torch.Size([1, 17, 5])\n"
     ]
    },
    {
     "name": "stdout",
     "output_type": "stream",
     "text": [
      "150 torch.Size([1, 3, 2048, 768]) torch.Size([1, 17, 5])\n",
      "151 torch.Size([1, 3, 2048, 640]) torch.Size([1, 17, 5])\n",
      "152 torch.Size([1, 3, 2048, 640]) torch.Size([1, 17, 5])\n",
      "153 torch.Size([1, 3, 2048, 768]) torch.Size([1, 16, 5])\n",
      "154 torch.Size([1, 3, 2048, 768]) torch.Size([1, 17, 5])\n",
      "155 torch.Size([1, 3, 2048, 768]) torch.Size([1, 17, 5])\n",
      "156 torch.Size([1, 3, 2048, 768]) torch.Size([1, 17, 5])\n",
      "157 torch.Size([1, 3, 2048, 640]) torch.Size([1, 17, 5])\n",
      "158 torch.Size([1, 3, 2048, 896]) torch.Size([1, 17, 5])\n",
      "159 torch.Size([1, 3, 2048, 768]) torch.Size([1, 17, 5])\n",
      "160 torch.Size([1, 3, 2048, 768]) torch.Size([1, 17, 5])\n",
      "161 torch.Size([1, 3, 2048, 640]) torch.Size([1, 16, 5])\n",
      "162 torch.Size([1, 3, 1920, 640]) torch.Size([1, 17, 5])\n",
      "163 torch.Size([1, 3, 2048, 768]) torch.Size([1, 17, 5])\n",
      "164 torch.Size([1, 3, 2048, 512]) torch.Size([1, 17, 5])\n",
      "165 torch.Size([1, 3, 2048, 768]) torch.Size([1, 17, 5])\n",
      "166 torch.Size([1, 3, 2048, 640]) torch.Size([1, 17, 5])\n",
      "167 torch.Size([1, 3, 2048, 768]) torch.Size([1, 17, 5])\n",
      "168 torch.Size([1, 3, 2048, 640]) torch.Size([1, 17, 5])\n",
      "169 torch.Size([1, 3, 2048, 640]) torch.Size([1, 17, 5])\n",
      "170 torch.Size([1, 3, 1536, 768]) torch.Size([1, 17, 5])\n",
      "171 torch.Size([1, 3, 2048, 640]) torch.Size([1, 17, 5])\n",
      "172 torch.Size([1, 3, 2048, 640]) torch.Size([1, 17, 5])\n",
      "173 torch.Size([1, 3, 2048, 768]) torch.Size([1, 17, 5])\n",
      "174 torch.Size([1, 3, 2048, 640]) torch.Size([1, 17, 5])\n",
      "175 torch.Size([1, 3, 2048, 768]) torch.Size([1, 17, 5])\n",
      "176 torch.Size([1, 3, 2048, 768]) torch.Size([1, 17, 5])\n",
      "177 torch.Size([1, 3, 2048, 768]) torch.Size([1, 17, 5])\n",
      "178 torch.Size([1, 3, 2048, 640]) torch.Size([1, 17, 5])\n",
      "179 torch.Size([1, 3, 2048, 640]) torch.Size([1, 17, 5])\n",
      "180 torch.Size([1, 3, 2048, 640]) torch.Size([1, 17, 5])\n",
      "181 torch.Size([1, 3, 1664, 896]) torch.Size([1, 17, 5])\n",
      "182 torch.Size([1, 3, 2048, 640]) torch.Size([1, 17, 5])\n",
      "183 torch.Size([1, 3, 2048, 512]) torch.Size([1, 17, 5])\n",
      "184 torch.Size([1, 3, 2048, 640]) torch.Size([1, 17, 5])\n",
      "185 torch.Size([1, 3, 1920, 896]) torch.Size([1, 17, 5])\n",
      "186 torch.Size([1, 3, 2048, 640]) torch.Size([1, 17, 5])\n",
      "187 torch.Size([1, 3, 2048, 896]) torch.Size([1, 17, 5])\n",
      "188 torch.Size([1, 3, 2048, 896]) torch.Size([1, 17, 5])\n",
      "189 torch.Size([1, 3, 2048, 512]) torch.Size([1, 17, 5])\n",
      "190 torch.Size([1, 3, 2048, 768]) torch.Size([1, 17, 5])\n",
      "191 torch.Size([1, 3, 2048, 512]) torch.Size([1, 17, 5])\n",
      "192 torch.Size([1, 3, 2048, 768]) torch.Size([1, 17, 5])\n",
      "193 torch.Size([1, 3, 2048, 640]) torch.Size([1, 17, 5])\n",
      "194 torch.Size([1, 3, 2048, 640]) torch.Size([1, 17, 5])\n",
      "195 torch.Size([1, 3, 2048, 768]) torch.Size([1, 17, 5])\n",
      "196 torch.Size([1, 3, 2048, 640]) torch.Size([1, 17, 5])\n",
      "197 torch.Size([1, 3, 2048, 768]) torch.Size([1, 17, 5])\n",
      "198 torch.Size([1, 3, 2048, 512]) torch.Size([1, 17, 5])\n",
      "199 torch.Size([1, 3, 2048, 768]) torch.Size([1, 17, 5])\n",
      "200 torch.Size([1, 3, 2048, 640]) torch.Size([1, 17, 5])\n",
      "201 torch.Size([1, 3, 1664, 512]) torch.Size([1, 17, 5])\n",
      "202 torch.Size([1, 3, 2048, 512]) torch.Size([1, 17, 5])\n",
      "203 torch.Size([1, 3, 2048, 768]) torch.Size([1, 17, 5])\n",
      "204 torch.Size([1, 3, 2048, 768]) torch.Size([1, 17, 5])\n",
      "205 torch.Size([1, 3, 2048, 640]) torch.Size([1, 17, 5])\n",
      "206 torch.Size([1, 3, 2048, 640]) torch.Size([1, 17, 5])\n",
      "207 torch.Size([1, 3, 2048, 896]) torch.Size([1, 17, 5])\n",
      "208 torch.Size([1, 3, 1920, 896]) torch.Size([1, 17, 5])\n",
      "209 torch.Size([1, 3, 896, 256]) torch.Size([1, 17, 5])\n",
      "210 torch.Size([1, 3, 2048, 768]) torch.Size([1, 17, 5])\n",
      "211 torch.Size([1, 3, 2048, 768]) torch.Size([1, 17, 5])\n",
      "212 torch.Size([1, 3, 2048, 896]) torch.Size([1, 17, 5])\n",
      "213 torch.Size([1, 3, 2048, 640]) torch.Size([1, 17, 5])\n",
      "214 torch.Size([1, 3, 2048, 896]) torch.Size([1, 17, 5])\n",
      "215 torch.Size([1, 3, 2048, 768]) torch.Size([1, 17, 5])\n",
      "216 torch.Size([1, 3, 2048, 896]) torch.Size([1, 17, 5])\n",
      "217 torch.Size([1, 3, 1920, 768]) torch.Size([1, 17, 5])\n",
      "218 torch.Size([1, 3, 2048, 512]) torch.Size([1, 17, 5])\n",
      "219 torch.Size([1, 3, 2048, 896]) torch.Size([1, 17, 5])\n",
      "220 torch.Size([1, 3, 2048, 640]) torch.Size([1, 17, 5])\n",
      "221 torch.Size([1, 3, 1024, 384]) torch.Size([1, 17, 5])\n",
      "222 torch.Size([1, 3, 1792, 640]) torch.Size([1, 17, 5])\n",
      "223 torch.Size([1, 3, 2048, 896]) torch.Size([1, 17, 5])\n",
      "224 torch.Size([1, 3, 2048, 640]) torch.Size([1, 17, 5])\n",
      "225 torch.Size([1, 3, 1408, 384]) torch.Size([1, 17, 5])\n",
      "226 torch.Size([1, 3, 1920, 768]) torch.Size([1, 17, 5])\n",
      "227 torch.Size([1, 3, 2048, 768]) torch.Size([1, 17, 5])\n",
      "228 torch.Size([1, 3, 2048, 512]) torch.Size([1, 17, 5])\n",
      "229 torch.Size([1, 3, 2048, 640]) torch.Size([1, 17, 5])\n",
      "230 torch.Size([1, 3, 2048, 768]) torch.Size([1, 17, 5])\n",
      "231 torch.Size([1, 3, 1920, 896]) torch.Size([1, 17, 5])\n",
      "232 torch.Size([1, 3, 1664, 512]) torch.Size([1, 17, 5])\n",
      "233 torch.Size([1, 3, 2048, 640]) torch.Size([1, 17, 5])\n",
      "234 torch.Size([1, 3, 1920, 640]) torch.Size([1, 17, 5])\n",
      "235 torch.Size([1, 3, 2048, 896]) torch.Size([1, 17, 5])\n",
      "236 torch.Size([1, 3, 2048, 768]) torch.Size([1, 17, 5])\n",
      "237 torch.Size([1, 3, 2048, 640]) torch.Size([1, 17, 5])\n",
      "238 torch.Size([1, 3, 1536, 384]) torch.Size([1, 17, 5])\n",
      "239 torch.Size([1, 3, 2048, 640]) torch.Size([1, 17, 5])\n",
      "240 torch.Size([1, 3, 2048, 640]) torch.Size([1, 17, 5])\n",
      "241 torch.Size([1, 3, 2048, 768]) torch.Size([1, 17, 5])\n",
      "242 torch.Size([1, 3, 1920, 896]) torch.Size([1, 17, 5])\n",
      "243 torch.Size([1, 3, 2048, 768]) torch.Size([1, 17, 5])\n",
      "244 torch.Size([1, 3, 2048, 512]) torch.Size([1, 17, 5])\n",
      "245 torch.Size([1, 3, 2048, 768]) torch.Size([1, 17, 5])\n",
      "246 torch.Size([1, 3, 2048, 640]) torch.Size([1, 17, 5])\n",
      "247 torch.Size([1, 3, 2048, 768]) torch.Size([1, 17, 5])\n",
      "248 torch.Size([1, 3, 2048, 512]) torch.Size([1, 17, 5])\n",
      "249 torch.Size([1, 3, 2048, 896]) torch.Size([1, 17, 5])\n",
      "250 torch.Size([1, 3, 2048, 640]) torch.Size([1, 17, 5])\n",
      "251 torch.Size([1, 3, 2048, 896]) torch.Size([1, 17, 5])\n",
      "252 torch.Size([1, 3, 2048, 768]) torch.Size([1, 17, 5])\n",
      "253 torch.Size([1, 3, 2048, 512]) torch.Size([1, 17, 5])\n",
      "254 torch.Size([1, 3, 2048, 640]) torch.Size([1, 17, 5])\n",
      "255 torch.Size([1, 3, 2048, 640]) torch.Size([1, 17, 5])\n",
      "256 torch.Size([1, 3, 2048, 512]) torch.Size([1, 17, 5])\n",
      "257 torch.Size([1, 3, 2048, 640]) torch.Size([1, 17, 5])\n",
      "258 torch.Size([1, 3, 2048, 512]) torch.Size([1, 17, 5])\n",
      "259 torch.Size([1, 3, 2048, 768]) torch.Size([1, 17, 5])\n",
      "260 torch.Size([1, 3, 2048, 640]) torch.Size([1, 17, 5])\n",
      "261 torch.Size([1, 3, 2048, 768]) torch.Size([1, 17, 5])\n",
      "262 torch.Size([1, 3, 2048, 768]) torch.Size([1, 17, 5])\n",
      "263 torch.Size([1, 3, 1664, 512]) torch.Size([1, 17, 5])\n",
      "264 torch.Size([1, 3, 2048, 640]) torch.Size([1, 17, 5])\n",
      "265 torch.Size([1, 3, 1152, 512]) torch.Size([1, 17, 5])\n",
      "266 torch.Size([1, 3, 2048, 640]) torch.Size([1, 17, 5])\n",
      "267 torch.Size([1, 3, 2048, 640]) torch.Size([1, 17, 5])\n",
      "268 torch.Size([1, 3, 2048, 640]) torch.Size([1, 17, 5])\n",
      "269 torch.Size([1, 3, 2048, 768]) torch.Size([1, 17, 5])\n",
      "270 torch.Size([1, 3, 2048, 640]) torch.Size([1, 17, 5])\n",
      "271 torch.Size([1, 3, 2048, 768]) torch.Size([1, 17, 5])\n",
      "272 torch.Size([1, 3, 1920, 896]) torch.Size([1, 17, 5])\n",
      "273 torch.Size([1, 3, 2048, 640]) torch.Size([1, 17, 5])\n",
      "274 torch.Size([1, 3, 2048, 768]) torch.Size([1, 17, 5])\n",
      "275 torch.Size([1, 3, 2048, 640]) torch.Size([1, 17, 5])\n",
      "276 torch.Size([1, 3, 2048, 640]) torch.Size([1, 17, 5])\n",
      "277 torch.Size([1, 3, 2048, 640]) torch.Size([1, 16, 5])\n",
      "278 torch.Size([1, 3, 2048, 896]) torch.Size([1, 17, 5])\n",
      "279 torch.Size([1, 3, 2048, 768]) torch.Size([1, 17, 5])\n",
      "280 torch.Size([1, 3, 1280, 512]) torch.Size([1, 16, 5])\n",
      "281 torch.Size([1, 3, 2048, 768]) torch.Size([1, 17, 5])\n",
      "282 torch.Size([1, 3, 2048, 512]) torch.Size([1, 17, 5])\n",
      "283 torch.Size([1, 3, 2048, 640]) torch.Size([1, 17, 5])\n",
      "284 torch.Size([1, 3, 2048, 640]) torch.Size([1, 17, 5])\n",
      "285 torch.Size([1, 3, 2048, 768]) torch.Size([1, 17, 5])\n",
      "286 torch.Size([1, 3, 2048, 640]) torch.Size([1, 17, 5])\n",
      "287 torch.Size([1, 3, 2048, 640]) torch.Size([1, 17, 5])\n",
      "288 torch.Size([1, 3, 2048, 768]) torch.Size([1, 17, 5])\n",
      "289 torch.Size([1, 3, 2048, 640]) torch.Size([1, 17, 5])\n",
      "290 torch.Size([1, 3, 2048, 768]) torch.Size([1, 17, 5])\n",
      "291 torch.Size([1, 3, 2048, 640]) torch.Size([1, 17, 5])\n",
      "292 torch.Size([1, 3, 2048, 640]) torch.Size([1, 17, 5])\n",
      "293 torch.Size([1, 3, 2048, 768]) torch.Size([1, 17, 5])\n",
      "294 torch.Size([1, 3, 2048, 640]) torch.Size([1, 17, 5])\n"
     ]
    },
    {
     "name": "stdout",
     "output_type": "stream",
     "text": [
      "295 torch.Size([1, 3, 2048, 768]) torch.Size([1, 17, 5])\n",
      "296 torch.Size([1, 3, 1664, 512]) torch.Size([1, 17, 5])\n",
      "297 torch.Size([1, 3, 2048, 768]) torch.Size([1, 17, 5])\n",
      "298 torch.Size([1, 3, 2048, 768]) torch.Size([1, 17, 5])\n",
      "299 torch.Size([1, 3, 1280, 384]) torch.Size([1, 17, 5])\n",
      "300 torch.Size([1, 3, 2048, 640]) torch.Size([1, 17, 5])\n",
      "301 torch.Size([1, 3, 2048, 512]) torch.Size([1, 17, 5])\n",
      "302 torch.Size([1, 3, 2048, 640]) torch.Size([1, 17, 5])\n",
      "303 torch.Size([1, 3, 2048, 640]) torch.Size([1, 17, 5])\n",
      "304 torch.Size([1, 3, 2048, 640]) torch.Size([1, 17, 5])\n",
      "305 torch.Size([1, 3, 2048, 768]) torch.Size([1, 17, 5])\n",
      "306 torch.Size([1, 3, 2048, 768]) torch.Size([1, 17, 5])\n",
      "307 torch.Size([1, 3, 2048, 896]) torch.Size([1, 17, 5])\n",
      "308 torch.Size([1, 3, 1920, 512]) torch.Size([1, 17, 5])\n",
      "309 torch.Size([1, 3, 1920, 896]) torch.Size([1, 17, 5])\n",
      "310 torch.Size([1, 3, 2048, 640]) torch.Size([1, 17, 5])\n",
      "311 torch.Size([1, 3, 1664, 640]) torch.Size([1, 17, 5])\n",
      "312 torch.Size([1, 3, 2048, 768]) torch.Size([1, 17, 5])\n",
      "313 torch.Size([1, 3, 2048, 768]) torch.Size([1, 17, 5])\n",
      "314 torch.Size([1, 3, 2048, 640]) torch.Size([1, 17, 5])\n",
      "315 torch.Size([1, 3, 2048, 384]) torch.Size([1, 17, 5])\n",
      "316 torch.Size([1, 3, 1920, 640]) torch.Size([1, 15, 5])\n",
      "317 torch.Size([1, 3, 2048, 512]) torch.Size([1, 17, 5])\n",
      "318 torch.Size([1, 3, 1792, 768]) torch.Size([1, 17, 5])\n",
      "319 torch.Size([1, 3, 2048, 768]) torch.Size([1, 17, 5])\n",
      "320 torch.Size([1, 3, 2048, 640]) torch.Size([1, 17, 5])\n",
      "321 torch.Size([1, 3, 2048, 640]) torch.Size([1, 17, 5])\n",
      "322 torch.Size([1, 3, 2048, 640]) torch.Size([1, 17, 5])\n",
      "323 torch.Size([1, 3, 1536, 512]) torch.Size([1, 17, 5])\n",
      "324 torch.Size([1, 3, 2048, 768]) torch.Size([1, 17, 5])\n",
      "325 torch.Size([1, 3, 2048, 896]) torch.Size([1, 17, 5])\n",
      "326 torch.Size([1, 3, 2048, 768]) torch.Size([1, 17, 5])\n",
      "327 torch.Size([1, 3, 2048, 896]) torch.Size([1, 17, 5])\n",
      "328 torch.Size([1, 3, 1664, 768]) torch.Size([1, 17, 5])\n",
      "329 torch.Size([1, 3, 1792, 768]) torch.Size([1, 17, 5])\n",
      "330 torch.Size([1, 3, 2048, 768]) torch.Size([1, 17, 5])\n",
      "331 torch.Size([1, 3, 2048, 768]) torch.Size([1, 17, 5])\n",
      "332 torch.Size([1, 3, 2048, 512]) torch.Size([1, 17, 5])\n",
      "333 torch.Size([1, 3, 2048, 768]) torch.Size([1, 17, 5])\n",
      "334 torch.Size([1, 3, 2048, 768]) torch.Size([1, 17, 5])\n",
      "335 torch.Size([1, 3, 1920, 640]) torch.Size([1, 17, 5])\n",
      "336 torch.Size([1, 3, 2048, 640]) torch.Size([1, 17, 5])\n",
      "337 torch.Size([1, 3, 2048, 768]) torch.Size([1, 17, 5])\n",
      "338 torch.Size([1, 3, 2048, 896]) torch.Size([1, 17, 5])\n",
      "339 torch.Size([1, 3, 2048, 768]) torch.Size([1, 17, 5])\n",
      "340 torch.Size([1, 3, 2048, 640]) torch.Size([1, 16, 5])\n",
      "341 torch.Size([1, 3, 2048, 640]) torch.Size([1, 17, 5])\n",
      "342 torch.Size([1, 3, 2048, 768]) torch.Size([1, 17, 5])\n",
      "343 torch.Size([1, 3, 2048, 512]) torch.Size([1, 17, 5])\n",
      "344 torch.Size([1, 3, 1920, 640]) torch.Size([1, 17, 5])\n",
      "345 torch.Size([1, 3, 2048, 768]) torch.Size([1, 17, 5])\n",
      "346 torch.Size([1, 3, 2048, 640]) torch.Size([1, 17, 5])\n",
      "347 torch.Size([1, 3, 1920, 768]) torch.Size([1, 17, 5])\n",
      "348 torch.Size([1, 3, 1792, 896]) torch.Size([1, 17, 5])\n",
      "349 torch.Size([1, 3, 2048, 512]) torch.Size([1, 17, 5])\n",
      "350 torch.Size([1, 3, 2048, 640]) torch.Size([1, 17, 5])\n",
      "351 torch.Size([1, 3, 1920, 640]) torch.Size([1, 17, 5])\n",
      "352 torch.Size([1, 3, 1152, 384]) torch.Size([1, 17, 5])\n",
      "353 torch.Size([1, 3, 2048, 640]) torch.Size([1, 17, 5])\n",
      "354 torch.Size([1, 3, 2048, 640]) torch.Size([1, 17, 5])\n",
      "355 torch.Size([1, 3, 2048, 640]) torch.Size([1, 17, 5])\n",
      "356 torch.Size([1, 3, 2048, 768]) torch.Size([1, 17, 5])\n",
      "357 torch.Size([1, 3, 2048, 512]) torch.Size([1, 17, 5])\n",
      "358 torch.Size([1, 3, 2048, 640]) torch.Size([1, 17, 5])\n",
      "359 torch.Size([1, 3, 2048, 640]) torch.Size([1, 17, 5])\n",
      "360 torch.Size([1, 3, 2048, 768]) torch.Size([1, 17, 5])\n",
      "361 torch.Size([1, 3, 2048, 640]) torch.Size([1, 17, 5])\n",
      "362 torch.Size([1, 3, 1024, 384]) torch.Size([1, 17, 5])\n",
      "363 torch.Size([1, 3, 2048, 768]) torch.Size([1, 17, 5])\n",
      "364 torch.Size([1, 3, 2048, 640]) torch.Size([1, 17, 5])\n",
      "365 torch.Size([1, 3, 1152, 512]) torch.Size([1, 17, 5])\n",
      "366 torch.Size([1, 3, 2048, 640]) torch.Size([1, 17, 5])\n",
      "367 torch.Size([1, 3, 2048, 768]) torch.Size([1, 17, 5])\n",
      "368 torch.Size([1, 3, 1920, 1024]) torch.Size([1, 17, 5])\n",
      "369 torch.Size([1, 3, 2048, 640]) torch.Size([1, 17, 5])\n",
      "370 torch.Size([1, 3, 2048, 640]) torch.Size([1, 17, 5])\n",
      "371 torch.Size([1, 3, 2048, 768]) torch.Size([1, 17, 5])\n",
      "372 torch.Size([1, 3, 2048, 768]) torch.Size([1, 17, 5])\n",
      "373 torch.Size([1, 3, 2048, 640]) torch.Size([1, 17, 5])\n",
      "374 torch.Size([1, 3, 2048, 768]) torch.Size([1, 17, 5])\n",
      "375 torch.Size([1, 3, 1920, 896]) torch.Size([1, 17, 5])\n",
      "376 torch.Size([1, 3, 2048, 768]) torch.Size([1, 17, 5])\n",
      "377 torch.Size([1, 3, 2048, 768]) torch.Size([1, 17, 5])\n",
      "378 torch.Size([1, 3, 1920, 768]) torch.Size([1, 17, 5])\n",
      "379 torch.Size([1, 3, 1792, 640]) torch.Size([1, 17, 5])\n",
      "380 torch.Size([1, 3, 2048, 512]) torch.Size([1, 17, 5])\n",
      "381 torch.Size([1, 3, 1792, 512]) torch.Size([1, 17, 5])\n",
      "382 torch.Size([1, 3, 2048, 640]) torch.Size([1, 17, 5])\n",
      "383 torch.Size([1, 3, 2048, 640]) torch.Size([1, 17, 5])\n",
      "384 torch.Size([1, 3, 1280, 384]) torch.Size([1, 17, 5])\n",
      "385 torch.Size([1, 3, 2048, 640]) torch.Size([1, 17, 5])\n",
      "386 torch.Size([1, 3, 2048, 896]) torch.Size([1, 17, 5])\n",
      "387 torch.Size([1, 3, 2048, 512]) torch.Size([1, 17, 5])\n",
      "388 torch.Size([1, 3, 2048, 384]) torch.Size([1, 16, 5])\n",
      "389 torch.Size([1, 3, 2048, 640]) torch.Size([1, 17, 5])\n",
      "390 torch.Size([1, 3, 1408, 512]) torch.Size([1, 17, 5])\n",
      "391 torch.Size([1, 3, 2048, 640]) torch.Size([1, 17, 5])\n",
      "392 torch.Size([1, 3, 2048, 768]) torch.Size([1, 17, 5])\n",
      "393 torch.Size([1, 3, 2048, 768]) torch.Size([1, 17, 5])\n",
      "394 torch.Size([1, 3, 1920, 640]) torch.Size([1, 17, 5])\n",
      "395 torch.Size([1, 3, 1792, 768]) torch.Size([1, 17, 5])\n",
      "396 torch.Size([1, 3, 2048, 640]) torch.Size([1, 17, 5])\n",
      "397 torch.Size([1, 3, 2048, 640]) torch.Size([1, 17, 5])\n",
      "398 torch.Size([1, 3, 2048, 768]) torch.Size([1, 17, 5])\n",
      "399 torch.Size([1, 3, 2048, 512]) torch.Size([1, 17, 5])\n",
      "400 torch.Size([1, 3, 1664, 640]) torch.Size([1, 17, 5])\n",
      "401 torch.Size([1, 3, 2048, 896]) torch.Size([1, 17, 5])\n",
      "402 torch.Size([1, 3, 1536, 512]) torch.Size([1, 17, 5])\n",
      "403 torch.Size([1, 3, 2048, 640]) torch.Size([1, 17, 5])\n",
      "404 torch.Size([1, 3, 2048, 640]) torch.Size([1, 17, 5])\n",
      "405 torch.Size([1, 3, 2048, 896]) torch.Size([1, 17, 5])\n",
      "406 torch.Size([1, 3, 1792, 640]) torch.Size([1, 17, 5])\n",
      "407 torch.Size([1, 3, 1792, 768]) torch.Size([1, 17, 5])\n",
      "408 torch.Size([1, 3, 1152, 256]) torch.Size([1, 17, 5])\n",
      "409 torch.Size([1, 3, 2048, 640]) torch.Size([1, 17, 5])\n",
      "410 torch.Size([1, 3, 2048, 896]) torch.Size([1, 17, 5])\n",
      "411 torch.Size([1, 3, 2048, 768]) torch.Size([1, 17, 5])\n",
      "412 torch.Size([1, 3, 1024, 512]) torch.Size([1, 17, 5])\n",
      "413 torch.Size([1, 3, 2048, 640]) torch.Size([1, 17, 5])\n",
      "414 torch.Size([1, 3, 2048, 512]) torch.Size([1, 17, 5])\n",
      "415 torch.Size([1, 3, 2048, 640]) torch.Size([1, 17, 5])\n",
      "416 torch.Size([1, 3, 2048, 640]) torch.Size([1, 17, 5])\n",
      "417 torch.Size([1, 3, 1792, 640]) torch.Size([1, 17, 5])\n",
      "418 torch.Size([1, 3, 2048, 768]) torch.Size([1, 17, 5])\n",
      "419 torch.Size([1, 3, 2048, 640]) torch.Size([1, 17, 5])\n",
      "420 torch.Size([1, 3, 2048, 768]) torch.Size([1, 17, 5])\n",
      "421 torch.Size([1, 3, 2048, 640]) torch.Size([1, 17, 5])\n",
      "422 torch.Size([1, 3, 2048, 768]) torch.Size([1, 17, 5])\n",
      "423 torch.Size([1, 3, 2048, 896]) torch.Size([1, 17, 5])\n",
      "424 torch.Size([1, 3, 2048, 896]) torch.Size([1, 17, 5])\n",
      "425 torch.Size([1, 3, 2048, 512]) torch.Size([1, 17, 5])\n",
      "426 torch.Size([1, 3, 2048, 896]) torch.Size([1, 17, 5])\n",
      "427 torch.Size([1, 3, 2048, 896]) torch.Size([1, 17, 5])\n",
      "428 torch.Size([1, 3, 2048, 896]) torch.Size([1, 17, 5])\n",
      "429 torch.Size([1, 3, 2048, 768]) torch.Size([1, 17, 5])\n",
      "430 torch.Size([1, 3, 2048, 640]) torch.Size([1, 17, 5])\n",
      "431 torch.Size([1, 3, 2048, 768]) torch.Size([1, 17, 5])\n",
      "432 torch.Size([1, 3, 2048, 640]) torch.Size([1, 17, 5])\n",
      "433 torch.Size([1, 3, 2048, 768]) torch.Size([1, 17, 5])\n",
      "434 torch.Size([1, 3, 2048, 768]) torch.Size([1, 17, 5])\n",
      "435 torch.Size([1, 3, 2048, 768]) torch.Size([1, 17, 5])\n",
      "436 torch.Size([1, 3, 2048, 640]) torch.Size([1, 17, 5])\n",
      "437 torch.Size([1, 3, 2048, 512]) torch.Size([1, 17, 5])\n",
      "438 torch.Size([1, 3, 2048, 640]) torch.Size([1, 17, 5])\n",
      "439 torch.Size([1, 3, 1536, 512]) torch.Size([1, 17, 5])\n"
     ]
    },
    {
     "name": "stdout",
     "output_type": "stream",
     "text": [
      "440 torch.Size([1, 3, 1920, 1024]) torch.Size([1, 17, 5])\n",
      "441 torch.Size([1, 3, 2048, 640]) torch.Size([1, 17, 5])\n",
      "442 torch.Size([1, 3, 2048, 768]) torch.Size([1, 17, 5])\n",
      "443 torch.Size([1, 3, 1792, 768]) torch.Size([1, 17, 5])\n",
      "444 torch.Size([1, 3, 2048, 768]) torch.Size([1, 17, 5])\n",
      "445 torch.Size([1, 3, 2048, 512]) torch.Size([1, 17, 5])\n",
      "446 torch.Size([1, 3, 2048, 768]) torch.Size([1, 17, 5])\n",
      "447 torch.Size([1, 3, 1024, 384]) torch.Size([1, 17, 5])\n",
      "448 torch.Size([1, 3, 1920, 768]) torch.Size([1, 17, 5])\n",
      "449 torch.Size([1, 3, 2048, 512]) torch.Size([1, 17, 5])\n",
      "450 torch.Size([1, 3, 1280, 512]) torch.Size([1, 17, 5])\n",
      "451 torch.Size([1, 3, 2048, 768]) torch.Size([1, 17, 5])\n",
      "452 torch.Size([1, 3, 2048, 768]) torch.Size([1, 17, 5])\n",
      "453 torch.Size([1, 3, 2048, 640]) torch.Size([1, 17, 5])\n",
      "454 torch.Size([1, 3, 2048, 768]) torch.Size([1, 17, 5])\n",
      "455 torch.Size([1, 3, 2048, 384]) torch.Size([1, 17, 5])\n",
      "456 torch.Size([1, 3, 2048, 768]) torch.Size([1, 17, 5])\n",
      "457 torch.Size([1, 3, 1792, 512]) torch.Size([1, 17, 5])\n",
      "458 torch.Size([1, 3, 1280, 512]) torch.Size([1, 17, 5])\n",
      "459 torch.Size([1, 3, 1920, 640]) torch.Size([1, 17, 5])\n",
      "460 torch.Size([1, 3, 2048, 512]) torch.Size([1, 17, 5])\n",
      "461 torch.Size([1, 3, 2048, 640]) torch.Size([1, 17, 5])\n",
      "462 torch.Size([1, 3, 2048, 640]) torch.Size([1, 17, 5])\n",
      "463 torch.Size([1, 3, 2048, 640]) torch.Size([1, 17, 5])\n",
      "464 torch.Size([1, 3, 2048, 640]) torch.Size([1, 17, 5])\n",
      "465 torch.Size([1, 3, 2048, 768]) torch.Size([1, 17, 5])\n",
      "466 torch.Size([1, 3, 2048, 640]) torch.Size([1, 17, 5])\n",
      "467 torch.Size([1, 3, 2048, 768]) torch.Size([1, 17, 5])\n",
      "468 torch.Size([1, 3, 2048, 768]) torch.Size([1, 17, 5])\n",
      "469 torch.Size([1, 3, 2048, 768]) torch.Size([1, 17, 5])\n",
      "470 torch.Size([1, 3, 2048, 768]) torch.Size([1, 17, 5])\n",
      "471 torch.Size([1, 3, 2048, 768]) torch.Size([1, 17, 5])\n",
      "472 torch.Size([1, 3, 2048, 640]) torch.Size([1, 17, 5])\n",
      "473 torch.Size([1, 3, 2048, 640]) torch.Size([1, 17, 5])\n",
      "474 torch.Size([1, 3, 1920, 512]) torch.Size([1, 17, 5])\n",
      "475 torch.Size([1, 3, 2048, 640]) torch.Size([1, 17, 5])\n",
      "476 torch.Size([1, 3, 2048, 768]) torch.Size([1, 17, 5])\n",
      "477 torch.Size([1, 3, 2048, 768]) torch.Size([1, 17, 5])\n",
      "478 torch.Size([1, 3, 2048, 512]) torch.Size([1, 17, 5])\n",
      "479 torch.Size([1, 3, 2048, 896]) torch.Size([1, 16, 5])\n",
      "480 torch.Size([1, 3, 2048, 512]) torch.Size([1, 17, 5])\n"
     ]
    }
   ],
   "source": [
    "for idx, (images, annotations) in enumerate(train_dataloader):\n",
    "    print(idx ,images.shape, annotations.shape)\n",
    "#     break"
   ]
  },
  {
   "cell_type": "code",
   "execution_count": 17,
   "metadata": {},
   "outputs": [
    {
     "name": "stdout",
     "output_type": "stream",
     "text": [
      "Loaded pretrained weights for efficientnet-b3\n"
     ]
    }
   ],
   "source": [
    "model = EfficientDet(num_classes=num_classes,\n",
    "                     network=network,\n",
    "                     W_bifpn=EFFICIENTDET[network]['W_bifpn'],\n",
    "                     D_bifpn=EFFICIENTDET[network]['D_bifpn'],\n",
    "                     D_class=EFFICIENTDET[network]['D_class'],\n",
    "                     )"
   ]
  },
  {
   "cell_type": "code",
   "execution_count": 18,
   "metadata": {},
   "outputs": [],
   "source": [
    "if(resume is not None):\n",
    "    model.load_state_dict(checkpoint['state_dict'])\n",
    "device, device_ids = prepare_device(device)\n",
    "model = model.to(device)\n",
    "if(len(device_ids) > 1):\n",
    "    model = torch.nn.DataParallel(model, device_ids=device_ids)\n",
    "\n",
    "optimizer = optim.Adam(model.parameters(), lr=learning_rate)\n",
    "scheduler = optim.lr_scheduler.ReduceLROnPlateau(\n",
    "    optimizer, patience=3, verbose=True)\n",
    "criterion = FocalLoss()"
   ]
  },
  {
   "cell_type": "code",
   "execution_count": null,
   "metadata": {
    "scrolled": false
   },
   "outputs": [
    {
     "name": "stdout",
     "output_type": "stream",
     "text": [
      "0 epoch: \t start training....\n"
     ]
    },
    {
     "name": "stderr",
     "output_type": "stream",
     "text": [
      "/usr/local/lib/python3.6/dist-packages/ipykernel_launcher.py:13: TqdmDeprecationWarning: This function will be removed in tqdm==5.0.0\n",
      "Please use `tqdm.notebook.tqdm` instead of `tqdm.tqdm_notebook`\n",
      "  del sys.path[0]\n"
     ]
    },
    {
     "data": {
      "application/vnd.jupyter.widget-view+json": {
       "model_id": "a688756dd3ad406eadd7102f66230e88",
       "version_major": 2,
       "version_minor": 0
      },
      "text/plain": [
       "HBox(children=(FloatProgress(value=0.0, max=481.0), HTML(value='')))"
      ]
     },
     "metadata": {},
     "output_type": "display_data"
    },
    {
     "name": "stdout",
     "output_type": "stream",
     "text": [
      "\n",
      "    time           : 286.960191488266\n",
      "    loss           : 2.772585857558895\n",
      "    bbox_loss      : 0.9316330751609405\n",
      "    cls_loss       : 1.8409528070266925\n"
     ]
    },
    {
     "name": "stderr",
     "output_type": "stream",
     "text": [
      "/usr/local/lib/python3.6/dist-packages/ipykernel_launcher.py:53: TqdmDeprecationWarning: This function will be removed in tqdm==5.0.0\n",
      "Please use `tqdm.notebook.tqdm` instead of `tqdm.tqdm_notebook`\n"
     ]
    },
    {
     "data": {
      "application/vnd.jupyter.widget-view+json": {
       "model_id": "8035275e5d644476b30a638cb7e55dc7",
       "version_major": 2,
       "version_minor": 0
      },
      "text/plain": [
       "HBox(children=(FloatProgress(value=0.0, max=98.0), HTML(value='')))"
      ]
     },
     "metadata": {},
     "output_type": "display_data"
    },
    {
     "name": "stdout",
     "output_type": "stream",
     "text": [
      "\n",
      "    time           : 25.541072368621826\n",
      "    loss           : 1.1546158324927092\n",
      "    bbox_loss      : 0.8174767140299082\n",
      "    cls_loss       : 0.3371391218388453\n",
      "1 epoch: \t start training....\n"
     ]
    },
    {
     "data": {
      "application/vnd.jupyter.widget-view+json": {
       "model_id": "af1a41d007224ad6a394c0ac4c3dd378",
       "version_major": 2,
       "version_minor": 0
      },
      "text/plain": [
       "HBox(children=(FloatProgress(value=0.0, max=481.0), HTML(value='')))"
      ]
     },
     "metadata": {},
     "output_type": "display_data"
    },
    {
     "name": "stdout",
     "output_type": "stream",
     "text": [
      "\n",
      "    time           : 285.609659910202\n",
      "    loss           : 1.1036363973934784\n",
      "    bbox_loss      : 0.7731165968950474\n",
      "    cls_loss       : 0.3305198012109606\n"
     ]
    },
    {
     "data": {
      "application/vnd.jupyter.widget-view+json": {
       "model_id": "10dd23c7286d4040932dcda985428e6f",
       "version_major": 2,
       "version_minor": 0
      },
      "text/plain": [
       "HBox(children=(FloatProgress(value=0.0, max=98.0), HTML(value='')))"
      ]
     },
     "metadata": {},
     "output_type": "display_data"
    },
    {
     "name": "stdout",
     "output_type": "stream",
     "text": [
      "\n",
      "    time           : 25.53165364265442\n",
      "    loss           : 1.0983681799843907\n",
      "    bbox_loss      : 0.7615665104240179\n",
      "    cls_loss       : 0.3368016703752801\n",
      "2 epoch: \t start training....\n"
     ]
    },
    {
     "data": {
      "application/vnd.jupyter.widget-view+json": {
       "model_id": "277f3b1584d64448a24d30e38f18cdeb",
       "version_major": 2,
       "version_minor": 0
      },
      "text/plain": [
       "HBox(children=(FloatProgress(value=0.0, max=481.0), HTML(value='')))"
      ]
     },
     "metadata": {},
     "output_type": "display_data"
    },
    {
     "name": "stdout",
     "output_type": "stream",
     "text": [
      "\n",
      "    time           : 285.64779806137085\n",
      "    loss           : 0.9285733098175818\n",
      "    bbox_loss      : 0.6698000370340883\n",
      "    cls_loss       : 0.2587732736199413\n"
     ]
    },
    {
     "data": {
      "application/vnd.jupyter.widget-view+json": {
       "model_id": "ca3ee734122e48b99b209025b571eced",
       "version_major": 2,
       "version_minor": 0
      },
      "text/plain": [
       "HBox(children=(FloatProgress(value=0.0, max=98.0), HTML(value='')))"
      ]
     },
     "metadata": {},
     "output_type": "display_data"
    },
    {
     "name": "stdout",
     "output_type": "stream",
     "text": [
      "\n",
      "    time           : 25.523820400238037\n",
      "    loss           : 0.8885288154706359\n",
      "    bbox_loss      : 0.6338833919726312\n",
      "    cls_loss       : 0.2546454243129119\n",
      "3 epoch: \t start training....\n"
     ]
    },
    {
     "data": {
      "application/vnd.jupyter.widget-view+json": {
       "model_id": "2bfa9a4026cc47ef8dc9798d92d5b8bb",
       "version_major": 2,
       "version_minor": 0
      },
      "text/plain": [
       "HBox(children=(FloatProgress(value=0.0, max=481.0), HTML(value='')))"
      ]
     },
     "metadata": {},
     "output_type": "display_data"
    },
    {
     "name": "stdout",
     "output_type": "stream",
     "text": [
      "\n",
      "    time           : 285.87697100639343\n",
      "    loss           : 0.8349634825935482\n",
      "    bbox_loss      : 0.6064552998096681\n",
      "    cls_loss       : 0.22850818259800298\n"
     ]
    },
    {
     "data": {
      "application/vnd.jupyter.widget-view+json": {
       "model_id": "b431b912de734eaea0800ca8583d7ef5",
       "version_major": 2,
       "version_minor": 0
      },
      "text/plain": [
       "HBox(children=(FloatProgress(value=0.0, max=98.0), HTML(value='')))"
      ]
     },
     "metadata": {},
     "output_type": "display_data"
    },
    {
     "name": "stdout",
     "output_type": "stream",
     "text": [
      "\n",
      "    time           : 25.530062198638916\n",
      "    loss           : 0.7092770913150162\n",
      "    bbox_loss      : 0.528584481915459\n",
      "    cls_loss       : 0.18069260934134945\n",
      "4 epoch: \t start training....\n"
     ]
    },
    {
     "data": {
      "application/vnd.jupyter.widget-view+json": {
       "model_id": "66ddc9361ba34c5c8c5ef1ec829e60eb",
       "version_major": 2,
       "version_minor": 0
      },
      "text/plain": [
       "HBox(children=(FloatProgress(value=0.0, max=481.0), HTML(value='')))"
      ]
     },
     "metadata": {},
     "output_type": "display_data"
    }
   ],
   "source": [
    "model.train()\n",
    "df = pd.DataFrame(np.zeros((num_epochs,4)),columns = [\"train_cls\",\"train_bbox_loss\",\"val_cls\",\"val_bbox_loss\"])\n",
    "for epoch in range(num_epochs):\n",
    "    print(\"{} epoch: \\t start training....\".format(epoch))\n",
    "    \n",
    "    start = time.time()\n",
    "    result = {}\n",
    "    total_loss = []\n",
    "    bbox_losses = []\n",
    "    cls_losses = []\n",
    "    optimizer.zero_grad()\n",
    "    total_batches = len(train_dataloader)\n",
    "    tk0 = tqdm(train_dataloader, total=total_batches)\n",
    "    for idx, (images, annotations_bboxes) in enumerate(tk0):\n",
    "        images = images.to(device)\n",
    "        annotations_bboxes = annotations_bboxes.to(device)\n",
    "        classification, regression, anchors = model(images)\n",
    "        classification_loss, regression_loss= criterion(\n",
    "            classification, regression, anchors, annotations_bboxes)\n",
    "        classification_loss = classification_loss.mean()\n",
    "        regression_loss = regression_loss.mean()\n",
    "        loss = classification_loss + regression_loss\n",
    "        if bool(loss == 0):\n",
    "            print('loss equal zero(0)')\n",
    "            continue\n",
    "        loss.backward()\n",
    "        if (idx+1) % grad_accumulation_steps == 0:\n",
    "            torch.nn.utils.clip_grad_norm_(model.parameters(), 0.1)\n",
    "            optimizer.step()\n",
    "            optimizer.zero_grad()\n",
    "        total_loss.append(loss.item())\n",
    "        bbox_losses.append(regression_loss.item())\n",
    "        cls_losses.append(classification_loss.item())\n",
    "        tk0.set_postfix(loss=(np.mean(total_loss)))\n",
    "    result = {\n",
    "        'time': time.time() - start,\n",
    "        'loss': np.mean(total_loss),\n",
    "        'bbox_loss': np.mean(bbox_losses),\n",
    "        'cls_loss': np.mean(cls_losses)\n",
    "    }\n",
    "    for key, value in result.items():\n",
    "        print('    {:15s}: {}'.format(str(key), value))\n",
    "    df.iloc[epoch,:2] = [np.mean(cls_losses),np.mean(bbox_losses)] \n",
    "    torch.cuda.empty_cache()\n",
    "    with torch.no_grad():\n",
    "        start = time.time()\n",
    "        result = {}\n",
    "        total_loss = []\n",
    "        bbox_losses = []\n",
    "        cls_losses = []\n",
    "        optimizer.zero_grad()\n",
    "        total_batches = len(val_dataloader)\n",
    "        tk0 = tqdm(val_dataloader, total=total_batches)\n",
    "        for idx, (images, annotations_bboxes) in enumerate(tk0):\n",
    "            images = images.to(device)\n",
    "            annotations_bboxes = annotations_bboxes.to(device)\n",
    "            classification, regression, anchors = model(images)\n",
    "            classification_loss, regression_loss= criterion(\n",
    "                classification, regression, anchors, annotations_bboxes)\n",
    "            classification_loss = classification_loss.mean()\n",
    "            regression_loss = regression_loss.mean()\n",
    "            loss = classification_loss + regression_loss\n",
    "            if bool(loss == 0):\n",
    "                print('loss equal zero(0)')\n",
    "                continue\n",
    "            total_loss.append(loss.item())\n",
    "            bbox_losses.append(regression_loss.item())\n",
    "            cls_losses.append(classification_loss.item())\n",
    "            tk0.set_postfix(loss=(np.mean(total_loss)))\n",
    "        result = {\n",
    "            'time': time.time() - start,\n",
    "            'loss': np.mean(total_loss),\n",
    "            'bbox_loss': np.mean(bbox_losses),\n",
    "            'cls_loss': np.mean(cls_losses)\n",
    "        }\n",
    "        for key, value in result.items():\n",
    "            print('    {:15s}: {}'.format(str(key), value))\n",
    "            \n",
    "    scheduler.step(np.mean(total_loss))\n",
    "    df.iloc[epoch,2:] = [np.mean(cls_losses),np.mean(bbox_losses)]\n",
    "    df.to_csv('../storage/d3-downscale(2048,1024).csv')\n",
    "    torch.cuda.empty_cache()\n",
    "    arch = type(model).__name__\n",
    "    state = {\n",
    "        'arch': arch,\n",
    "        'num_class': num_classes,\n",
    "        'network': network,\n",
    "        'state_dict': get_state_dict(model)\n",
    "    }\n",
    "    torch.save(\n",
    "        state, './weights/checkpoint_{}_{}.pth'.format(network, epoch))\n",
    "state = {\n",
    "    'arch': arch,\n",
    "    'num_class': num_classes,\n",
    "    'network': network,\n",
    "    'state_dict': get_state_dict(model)\n",
    "}\n",
    "torch.save(state, './weights/Final_{}.pth'.format(network))\n"
   ]
  },
  {
   "cell_type": "code",
   "execution_count": null,
   "metadata": {},
   "outputs": [],
   "source": [
    "model.is_training = False"
   ]
  },
  {
   "cell_type": "code",
   "execution_count": null,
   "metadata": {},
   "outputs": [],
   "source": [
    "def vis(dataloader,split = 'test'):\n",
    "    if split=='test':\n",
    "        for idx, (images) in enumerate(dataloader):\n",
    "            images = images.to(device)\n",
    "            image = images[0]\n",
    "            classification_score, category, boxes = model(images)\n",
    "            break\n",
    "    else:\n",
    "        for idx, (images, annotations) in enumerate(dataloader):\n",
    "            image = images[0]\n",
    "            images = images.to(device)\n",
    "            classification_score, category, boxes = model(images)\n",
    "            break\n",
    "    boxes = boxes.detach().cpu().numpy()\n",
    "    image = image.detach().cpu().numpy()\n",
    "    image = image.transpose(1,2,0)\n",
    "    boxes = boxes.astype(np.int16)\n",
    "    for box in boxes:\n",
    "        start = (box[0],box[1])\n",
    "        end = (box[2],box[3])\n",
    "        image = cv2.rectangle(image, start, end, (255,0,0), 10)\n",
    "    plt.imshow(image.get())"
   ]
  },
  {
   "cell_type": "code",
   "execution_count": null,
   "metadata": {},
   "outputs": [],
   "source": [
    "def get_boxes(dataloader,split = 'test'):\n",
    "    all_boxes = []\n",
    "    all_scores = []\n",
    "    if split=='test':\n",
    "        for idx, (images) in enumerate(dataloader):\n",
    "            images = images.to(device)\n",
    "            image = images[0]\n",
    "            classification_score, category, boxes = model(images)\n",
    "            boxes = boxes.detach().cpu().numpy()\n",
    "            boxes = boxes.astype(np.int16)\n",
    "    else:\n",
    "        for idx, (images, annotations) in tqdm(enumerate(dataloader)):\n",
    "            image = images[0]\n",
    "            images = images.to(device)\n",
    "            classification_score, category, boxes = model(images)\n",
    "            boxes = boxes.detach().cpu().numpy()\n",
    "            classification_score = classification_score.detach().cpu().numpy()\n",
    "            boxes = boxes.astype(np.int16)\n",
    "            all_boxes.append(boxes)\n",
    "            all_scores.append(classification_score)\n",
    "    return all_boxes,all_scores"
   ]
  },
  {
   "cell_type": "code",
   "execution_count": null,
   "metadata": {},
   "outputs": [],
   "source": [
    "val_boxes, val_scores = get_boxes(val_dataloader,'a')"
   ]
  },
  {
   "cell_type": "code",
   "execution_count": null,
   "metadata": {},
   "outputs": [],
   "source": [
    "import pickle\n",
    "with open(\"boxes.txt\", \"wb\") as fp:   #Pickling\n",
    "    pickle.dump(val_boxes, fp)\n",
    "with open(\"scores.txt\", \"wb\") as fp:   #Pickling\n",
    "    pickle.dump(val_scores, fp)"
   ]
  },
  {
   "cell_type": "code",
   "execution_count": null,
   "metadata": {},
   "outputs": [],
   "source": [
    "with open(\"boxes.txt\", \"rb\") as fp:   # Unpickling\n",
    "    b = pickle.load(fp)"
   ]
  },
  {
   "cell_type": "code",
   "execution_count": null,
   "metadata": {},
   "outputs": [],
   "source": [
    "vis(val_dataloader,'a')"
   ]
  },
  {
   "cell_type": "code",
   "execution_count": null,
   "metadata": {},
   "outputs": [],
   "source": [
    "vis(test_dataloader)"
   ]
  },
  {
   "cell_type": "code",
   "execution_count": null,
   "metadata": {},
   "outputs": [],
   "source": [
    "def get_predictions(dataloader = val_dataloader):\n",
    "    corners = []\n",
    "    clipped_corners = []\n",
    "    \n",
    "    # Predictions from model\n",
    "    for idx, (image, annotation, corner) in enumerate(val_dataloader):\n",
    "        image = image.to(device)\n",
    "        classification_score, category, pred_boxes, pred_corner = model(image)\n",
    "        classification_score = classification_score.detach().cpu().numpy()\n",
    "        pred_corner = pred_corner.detach().cpu().numpy()\n",
    "        if classification_score.shape[0]>17:\n",
    "            ind = np.argpartition(classification_score, -17)[-17:]\n",
    "            corners.append(pred_corner[ind])\n",
    "        else:\n",
    "            corners.append(pred_corner)\n",
    "    \n",
    "    #Making all predictions 17\n",
    "    for corner in corners:\n",
    "        if corner.shape[0]==17:\n",
    "            clipped_corners.append(corner)\n",
    "        else:\n",
    "            num_repeat = 17-corner.shape[0]\n",
    "            repeat = corner[-1].reshape(1,8)\n",
    "            for i in range(num_repeat):\n",
    "                corner = np.append(corner,repeat,axis=0)\n",
    "            clipped_corners.append(corner)\n",
    "    \n",
    "    clipped_corners = np.array(clipped_corners)\n",
    "    \n",
    "    #Reshaping and saving csv\n",
    "    val_landmarks = np.zeros((len(clipped_corners),136))\n",
    "    for i in range(len(clipped_corners)):\n",
    "        val_landmarks[i,:68] = clipped_corners[i,:,:4].reshape(1,68)/768\n",
    "        val_landmarks[i,68:] = clipped_corners[i,:,4:].reshape(1,68)/1408\n",
    "    \n",
    "    val_preds = pd.DataFrame(val_landmarks)\n",
    "    val_preds.to_csv('val_preds.csv',header = None,index = False)\n",
    "    return val_preds"
   ]
  },
  {
   "cell_type": "code",
   "execution_count": null,
   "metadata": {},
   "outputs": [],
   "source": [
    "get_predictions()"
   ]
  },
  {
   "cell_type": "code",
   "execution_count": null,
   "metadata": {},
   "outputs": [],
   "source": [
    "import numpy as np\n",
    "import pandas as pd\n",
    "\n",
    "## find the SMAPE error\n",
    "def smape(y_true, y_pred):\n",
    "    numerator = np.sum(np.abs(y_true-y_pred), axis=1)\n",
    "    denominator = np.sum(np.abs(y_true+y_pred), axis=1)\n",
    "    smape_val = np.mean(numerator/ denominator) * 100\n",
    "    return smape_val\n",
    "\n",
    "\n",
    "\n",
    "true_csv_path = \"boostnet_labeldata/labels/test/angles.csv\"\n",
    "pred_csv_path = \"boostnet_labeldata/labels/test/test_angles_polyfit.csv\"\n",
    "true_angles = pd.read_csv(true_csv_path, header=None).values\n",
    "pred_angles = pd.read_csv(pred_csv_path, header=None).values\n",
    "print (smape(true_angles, pred_angles))"
   ]
  }
 ],
 "metadata": {
  "kernelspec": {
   "display_name": "Python 3",
   "language": "python",
   "name": "python3"
  },
  "language_info": {
   "codemirror_mode": {
    "name": "ipython",
    "version": 3
   },
   "file_extension": ".py",
   "mimetype": "text/x-python",
   "name": "python",
   "nbconvert_exporter": "python",
   "pygments_lexer": "ipython3",
   "version": "3.6.8"
  }
 },
 "nbformat": 4,
 "nbformat_minor": 2
}
